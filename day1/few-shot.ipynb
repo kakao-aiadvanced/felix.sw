{
 "cells": [
  {
   "metadata": {
    "collapsed": true,
    "ExecuteTime": {
     "end_time": "2024-09-02T08:54:46.446141Z",
     "start_time": "2024-09-02T08:54:46.435465Z"
    }
   },
   "cell_type": "code",
   "source": [
    "from openai import OpenAI\n",
    "\n",
    "## Set the API key and model name\n",
    "MODEL = \"gpt-4o-mini\"\n",
    "client = OpenAI(\n",
    "    api_key=\"\")"
   ],
   "id": "initial_id",
   "outputs": [],
   "execution_count": 39
  },
  {
   "metadata": {
    "ExecuteTime": {
     "end_time": "2024-09-02T09:00:26.308411Z",
     "start_time": "2024-09-02T09:00:25.742519Z"
    }
   },
   "cell_type": "code",
   "source": [
    "assistant = \"You are an assistant that translates English to Korean.\"\n",
    "\n",
    "examples = [\n",
    "    {\"prompt\": \"Cat\", \"completion\": \"고양이\"},\n",
    "    {\"prompt\": \"Person\", \"completion\": \"사람\"},\n",
    "    {\"prompt\": \"Bottle\", \"completion\": \"병\"},\n",
    "    {\"prompt\": \"Bird\", \"completion\": \"새\"},\n",
    "    {\"prompt\": \"Apple\", \"completion\": \"사과\"}\n",
    "]\n",
    "\n",
    "question = \"Cat\"\n",
    "\n",
    "full_prompt = \"\"\n",
    "for example in examples:\n",
    "    full_prompt += example['prompt'] + \" \" + example['completion'] + \"\\n\\n\"\n",
    "\n",
    "full_prompt += question\n",
    "\n",
    "completion = client.chat.completions.create(\n",
    "    model=MODEL,\n",
    "    messages=[\n",
    "        {\"role\": \"system\", \"content\": assistant},\n",
    "        {\"role\": \"user\", \"content\": full_prompt}\n",
    "    ]\n",
    ")\n",
    "\n",
    "print(\"Assistant: \" + completion.choices[0].message.content)"
   ],
   "id": "4d0a086e5f24526",
   "outputs": [
    {
     "name": "stdout",
     "output_type": "stream",
     "text": [
      "Assistant: 고양이\n"
     ]
    }
   ],
   "execution_count": 43
  },
  {
   "metadata": {
    "ExecuteTime": {
     "end_time": "2024-09-02T09:00:28.764675Z",
     "start_time": "2024-09-02T09:00:28.295014Z"
    }
   },
   "cell_type": "code",
   "source": [
    "assistant = \"You are the helper who determines the sentiment(positive or negative) of a movie review. Answer positive or negative.\"\n",
    "\n",
    "examples = [\n",
    "    {\"prompt\": \"The movie was a thrilling experience with an excellent plot and stunning visuals.\", \"completion\": \"positive\"},\n",
    "    {\"prompt\": \"The film was a complete waste of time, with poor acting and a predictable storyline.\", \"completion\": \"negative\"},\n",
    "    {\"prompt\": \"An emotional rollercoaster that kept me engaged from start to finish.\", \"completion\": \"positive\"},\n",
    "    {\"prompt\": \"The pacing was incredibly slow, and the characters were uninteresting.\", \"completion\": \"negative\"},\n",
    "    {\"prompt\": \"A fantastic film with outstanding performances and a powerful message.\", \"completion\": \"positive\"}\n",
    "]\n",
    "\n",
    "question = \"The storyline was dull and uninspiring.\"\n",
    "\n",
    "full_prompt = \"\"\n",
    "for example in examples:\n",
    "    full_prompt += example['prompt'] + \" \" + example['completion'] + \"\\n\\n\"\n",
    "\n",
    "full_prompt += question\n",
    "\n",
    "completion = client.chat.completions.create(\n",
    "    model=MODEL,\n",
    "    messages=[\n",
    "        {\"role\": \"system\", \"content\": assistant},\n",
    "        {\"role\": \"user\", \"content\": full_prompt}\n",
    "    ]\n",
    ")\n",
    "\n",
    "print(\"Assistant: \" + completion.choices[0].message.content)"
   ],
   "id": "58b2451577cd3c25",
   "outputs": [
    {
     "name": "stdout",
     "output_type": "stream",
     "text": [
      "Assistant: negative\n"
     ]
    }
   ],
   "execution_count": 44
  },
  {
   "metadata": {
    "ExecuteTime": {
     "end_time": "2024-09-02T09:07:51.846766Z",
     "start_time": "2024-09-02T09:07:50.956735Z"
    }
   },
   "cell_type": "code",
   "source": [
    "assistant = \"You are the assistant that helps me turn natural language into SQL.\"\n",
    "\n",
    "examples = [\n",
    "    {\"prompt\": \"Find employers with salary over 50000.\", \"completion\": \"SELECT * FROM employees WHERE salary > 50000;\"},\n",
    "    {\"prompt\": \"Find products with 0 stock.\", \"completion\": \"SELECT * FROM products WHERE stock = 0;\"},\n",
    "    {\"prompt\": \"Give me the names of students with math score over 90.\", \"completion\": \"SELECT name FROM students WHERE math_score > 90;\"},\n",
    "    {\"prompt\": \"Find all orders placed within the last 30 days.\", \"completion\": \"SELECT * FROM orders WHERE order_date >= DATE_SUB(CURDATE(), INTERVAL 30 DAY);\"},\n",
    "    {\"prompt\": \"Find count of customers for each city.\", \"completion\": \"SELECT city, COUNT(*) FROM customers GROUP BY city;\"}\n",
    "]\n",
    "\n",
    "question = \"Find the average salary of employees in the marketing department.\"\n",
    "\n",
    "full_prompt = \"\"\n",
    "for example in examples:\n",
    "    full_prompt += example['prompt'] + \" \" + example['completion'] + \"\\n\\n\"\n",
    "\n",
    "full_prompt += question\n",
    "\n",
    "completion = client.chat.completions.create(\n",
    "    model=MODEL,\n",
    "    messages=[\n",
    "        {\"role\": \"system\", \"content\": assistant},\n",
    "        {\"role\": \"user\", \"content\": full_prompt}\n",
    "    ]\n",
    ")\n",
    "\n",
    "print(\"Assistant: \" + completion.choices[0].message.content)"
   ],
   "id": "f05aae73f7d00e8a",
   "outputs": [
    {
     "name": "stdout",
     "output_type": "stream",
     "text": [
      "Assistant: To find the average salary of employees in the marketing department, you can use the following SQL query:\n",
      "\n",
      "```sql\n",
      "SELECT AVG(salary) FROM employees WHERE department = 'Marketing';\n",
      "```\n"
     ]
    }
   ],
   "execution_count": 45
  },
  {
   "metadata": {},
   "cell_type": "code",
   "outputs": [],
   "execution_count": null,
   "source": [
    "\n",
    "\n",
    "\n",
    "\n"
   ],
   "id": "5d15680af4f1be89"
  }
 ],
 "metadata": {
  "kernelspec": {
   "display_name": "Python 3",
   "language": "python",
   "name": "python3"
  },
  "language_info": {
   "codemirror_mode": {
    "name": "ipython",
    "version": 2
   },
   "file_extension": ".py",
   "mimetype": "text/x-python",
   "name": "python",
   "nbconvert_exporter": "python",
   "pygments_lexer": "ipython2",
   "version": "2.7.6"
  }
 },
 "nbformat": 4,
 "nbformat_minor": 5
}
