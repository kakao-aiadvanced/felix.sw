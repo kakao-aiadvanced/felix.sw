{
 "cells": [
  {
   "cell_type": "code",
   "id": "initial_id",
   "metadata": {
    "collapsed": true,
    "ExecuteTime": {
     "end_time": "2024-09-02T09:34:27.084055Z",
     "start_time": "2024-09-02T09:34:27.075725Z"
    }
   },
   "source": [
    "from openai import OpenAI\n",
    "\n",
    "## Set the API key and model name\n",
    "MODEL = \"gpt-4o-mini\"\n",
    "client = OpenAI(\n",
    "    api_key=\"\")"
   ],
   "outputs": [],
   "execution_count": 12
  },
  {
   "metadata": {
    "ExecuteTime": {
     "end_time": "2024-09-02T09:34:33.515379Z",
     "start_time": "2024-09-02T09:34:28.354036Z"
    }
   },
   "cell_type": "code",
   "source": [
    "assistant = \"You are an assistant that translates English to Korean.\"\n",
    "\n",
    "thoughts = [\n",
    "    \"Add the digits in the ones place: 3 + 7 = 10, carry over 1 to the tens place.\", \n",
    "    \"Add the digits in the tens place with the carry-over: 2 + 4 + 1 = 7.\",\n",
    "    \"Combine the results from the tens and ones place to get 70.\",\n",
    "    \"Decompose 23 into 20 + 3 and 47 into 40 + 7, then add the components.\",\n",
    "    \"Add the partial sums: 60 + 10 = 70, resulting in the final answer.\"\n",
    "]\n",
    "\n",
    "question = \"Solve the following problem step-by-step: 345 + 678 - 123\"\n",
    "\n",
    "full_prompt = \"\"\n",
    "for thought in thoughts:\n",
    "    full_prompt += thought + \"\\n\\n\"\n",
    "\n",
    "full_prompt += question\n",
    "\n",
    "completion = client.chat.completions.create(\n",
    "    model=MODEL,\n",
    "    messages=[\n",
    "        {\"role\": \"system\", \"content\": assistant},\n",
    "        {\"role\": \"user\", \"content\": full_prompt}\n",
    "    ]\n",
    ")\n",
    "\n",
    "print(\"Assistant: \" + completion.choices[0].message.content)"
   ],
   "id": "1d1c134c48311ac3",
   "outputs": [
    {
     "name": "stdout",
     "output_type": "stream",
     "text": [
      "Assistant: To solve the problem \\(345 + 678 - 123\\) step-by-step, we can break it down as follows:\n",
      "\n",
      "1. **Add \\(345\\) and \\(678\\)**:\n",
      "   - Add the digits in the ones place: \\(5 + 8 = 13\\), carry over \\(1\\) to the tens place.\n",
      "   - Add the digits in the tens place with the carry-over: \\(4 + 7 + 1 = 12\\), carry over \\(1\\) to the hundreds place.\n",
      "   - Add the digits in the hundreds place with the carry-over: \\(3 + 6 + 1 = 10\\).\n",
      "   - Now, combine the results: \\(1023\\).\n",
      "\n",
      "   So, \\(345 + 678 = 1023\\).\n",
      "\n",
      "2. **Now subtract \\(123\\) from \\(1023\\)**:\n",
      "   - Subtract the digits in the ones place: \\(3 - 3 = 0\\).\n",
      "   - Subtract the digits in the tens place: \\(2 - 2 = 0\\).\n",
      "   - Subtract the digits in the hundreds place: \\(10 - 1 = 9\\).\n",
      "\n",
      "   Combine the results: \\(900\\).\n",
      "\n",
      "Therefore, the final answer is \\(900\\).\n"
     ]
    }
   ],
   "execution_count": 13
  },
  {
   "metadata": {
    "ExecuteTime": {
     "end_time": "2024-09-02T09:34:40.666909Z",
     "start_time": "2024-09-02T09:34:37.609038Z"
    }
   },
   "cell_type": "code",
   "source": [
    "assistant = \"You are a problem-solving assistant. You answer the question with the given clues.\"\n",
    "\n",
    "thoughts = [\n",
    "    \"Determine Carol's favorite color: Since Carol likes green, her favorite color is green.\",\n",
    "    \"Determine the remaining possible colors for Alice and Bob: The remaining colors are red and blue.\",\n",
    "    \"Analyze Bob's color choice: Since Alice has blue and Carol has green, the only color left for Bob is red.\",\n",
    "    \"Conclusion: Alice's favorite color is blue, Bob's favorite color is red, and Carol's favorite color is green.\"\n",
    "]\n",
    "\n",
    "question = \"\"\"\n",
    "Solve the following logic puzzle step-by-step:\n",
    "Three friends, Alice, Bob, and Carol, have different favorite colors: red, blue, and green. We know that:\n",
    "1. Alice does not like red.\n",
    "2. Bob does not like blue.\n",
    "3. Carol likes green.\n",
    "\n",
    "Determine the favorite color of each friend.\n",
    "\"\"\"\n",
    "\n",
    "full_prompt = \"\"\n",
    "for thought in thoughts:\n",
    "    full_prompt += thought + \"\\n\\n\"\n",
    "\n",
    "full_prompt += question\n",
    "\n",
    "completion = client.chat.completions.create(\n",
    "    model=MODEL,\n",
    "    messages=[\n",
    "        {\"role\": \"system\", \"content\": assistant},\n",
    "        {\"role\": \"user\", \"content\": full_prompt}\n",
    "    ]\n",
    ")\n",
    "\n",
    "print(\"Assistant: \" + completion.choices[0].message.content)"
   ],
   "id": "e39019c648c2bda5",
   "outputs": [
    {
     "name": "stdout",
     "output_type": "stream",
     "text": [
      "Assistant: Let's solve the puzzle step-by-step based on the clues provided.\n",
      "\n",
      "1. **List the favorite colors available**: The colors are red, blue, and green.\n",
      "\n",
      "2. **Analyze Carol's preference**:\n",
      "   - We know from the clues that **Carol likes green**.\n",
      "   - Therefore, Carol's favorite color is **green**.\n",
      "\n",
      "3. **Analyze Alice's preference**:\n",
      "   - The clue states that **Alice does not like red**.\n",
      "   - Since Carol's favorite color is green, the only colors left for Alice are blue and red. \n",
      "   - Since Alice cannot have red (per the clue), this means that **Alice's favorite color must be blue**.\n",
      "\n",
      "4. **Analyze Bob's preference**:\n",
      "   - The clue states that **Bob does not like blue**.\n",
      "   - We already determined that Alice's favorite color is blue and Carol's favorite color is green.\n",
      "   - Since red is the only color left, **Bob's favorite color must be red**.\n",
      "\n",
      "5. **Summarize the results**:\n",
      "   - **Alice's favorite color is blue**.\n",
      "   - **Bob's favorite color is red**.\n",
      "   - **Carol's favorite color is green**.\n",
      "\n",
      "Final breakdown:\n",
      "- Alice = blue\n",
      "- Bob = red\n",
      "- Carol = green\n",
      "\n",
      "This accurately reflects the clues given and deduces the favorite colors for all three friends correctly.\n"
     ]
    }
   ],
   "execution_count": 14
  },
  {
   "metadata": {},
   "cell_type": "code",
   "outputs": [],
   "execution_count": null,
   "source": "",
   "id": "a165aee921b16ba4"
  }
 ],
 "metadata": {
  "kernelspec": {
   "display_name": "Python 3",
   "language": "python",
   "name": "python3"
  },
  "language_info": {
   "codemirror_mode": {
    "name": "ipython",
    "version": 2
   },
   "file_extension": ".py",
   "mimetype": "text/x-python",
   "name": "python",
   "nbconvert_exporter": "python",
   "pygments_lexer": "ipython2",
   "version": "2.7.6"
  }
 },
 "nbformat": 4,
 "nbformat_minor": 5
}
